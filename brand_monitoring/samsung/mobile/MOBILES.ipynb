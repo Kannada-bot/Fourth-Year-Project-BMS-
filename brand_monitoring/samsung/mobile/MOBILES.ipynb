{
 "cells": [
  {
   "cell_type": "code",
   "execution_count": 5,
   "metadata": {},
   "outputs": [
    {
     "name": "stderr",
     "output_type": "stream",
     "text": [
      "[nltk_data] Downloading package stopwords to\n",
      "[nltk_data]     C:\\Users\\Vikas\\AppData\\Roaming\\nltk_data...\n",
      "[nltk_data]   Package stopwords is already up-to-date!\n"
     ]
    },
    {
     "data": {
      "text/plain": [
       "True"
      ]
     },
     "execution_count": 5,
     "metadata": {},
     "output_type": "execute_result"
    }
   ],
   "source": [
    "import pandas as pd\n",
    "import numpy as np\n",
    "import re\n",
    "import nltk\n",
    "from nltk.corpus import stopwords\n",
    "from textblob import TextBlob\n",
    "nltk.download('stopwords')"
   ]
  },
  {
   "cell_type": "code",
   "execution_count": 6,
   "metadata": {},
   "outputs": [],
   "source": [
    "flipkartData = pd.read_csv(r'C:\\Users\\Vikas\\Desktop\\BrandMonitoring\\brand_monitoring\\samsung\\mobile\\flipkartDataset.csv', encoding='ISO-8859–1')\n",
    "sp_ch = [\"?\", \"READ MORE\"]\n",
    "for char in sp_ch:\n",
    "    flipkartData['Review'] = flipkartData['Review'].str.replace(char, '')\n",
    "flipkartData = flipkartData.Review.str.lower()"
   ]
  },
  {
   "cell_type": "code",
   "execution_count": 7,
   "metadata": {},
   "outputs": [],
   "source": [
    "def cleaner(data):\n",
    "    corpus = []\n",
    "    for i in range(0, len(data)):\n",
    "        review = re.sub('[^a-zA-Z]', ' ', str(data[i]))\n",
    "        review = review.lower()\n",
    "        review = review.split()\n",
    "        all_stopwords = stopwords.words('english')\n",
    "        all_stopwords.remove('not')\n",
    "        review = [word for word in review if not word in set(all_stopwords)]\n",
    "        review = ' '.join(review)\n",
    "        corpus.append(review)\n",
    "    data.dropna(inplace=True)\n",
    "    text_pol = []\n",
    "    for i in range(0, len(corpus)):\n",
    "        text = corpus[i]\n",
    "        senti = TextBlob(text)\n",
    "        polarity = senti.sentiment.polarity\n",
    "        if -1 <= polarity < -0.5:\n",
    "            label = 'Negative'\n",
    "        elif -0.5 <= polarity < -0.1:\n",
    "            label = 'Negative'\n",
    "        elif -0.1 <= polarity < 0.2:\n",
    "            label = 'Neutral'\n",
    "        elif 0.2 <= polarity < 0.6:\n",
    "            label = 'Positive'\n",
    "        elif 0.6 <= polarity <= 1:\n",
    "            label = 'Positive'\n",
    "        text_pol.append(label)\n",
    "    polDf = pd.DataFrame(list(zip(corpus, text_pol)), columns=['Review', 'Polarity'])\n",
    "    return polDf\n"
   ]
  },
  {
   "cell_type": "code",
   "execution_count": 8,
   "metadata": {},
   "outputs": [],
   "source": [
    "polDf = cleaner(flipkartData)\n",
    "flipkartPosCount = polDf['Polarity'].value_counts()['Positive']\n",
    "flipkartNegCount = polDf['Polarity'].value_counts()['Negative']\n",
    "flipkartNeuCount = polDf['Polarity'].value_counts()['Neutral']"
   ]
  },
  {
   "cell_type": "code",
   "execution_count": 11,
   "metadata": {},
   "outputs": [],
   "source": [
    "polDf.to_csv(\"newFlipkartDataset.csv\")"
   ]
  },
  {
   "cell_type": "code",
   "execution_count": 12,
   "metadata": {},
   "outputs": [],
   "source": [
    "flipkartData = pd.read_csv(r'C:\\Users\\Vikas\\Desktop\\BrandMonitoring\\brand_monitoring\\samsung\\mobile\\newFlipkartDataset.csv')\n",
    "flipkartPosCount = flipkartData['Polarity'].value_counts()['Positive']\n",
    "flipkartNegCount = flipkartData['Polarity'].value_counts()['Negative']\n",
    "flipkartNeuCount = flipkartData['Polarity'].value_counts()['Neutral']"
   ]
  },
  {
   "cell_type": "code",
   "execution_count": 21,
   "metadata": {},
   "outputs": [
    {
     "data": {
      "text/plain": [
       "1520"
      ]
     },
     "execution_count": 21,
     "metadata": {},
     "output_type": "execute_result"
    }
   ],
   "source": [
    "flipkartPosCount"
   ]
  },
  {
   "cell_type": "code",
   "execution_count": 14,
   "metadata": {},
   "outputs": [],
   "source": [
    "#______________________AMAZON_______________________"
   ]
  },
  {
   "cell_type": "code",
   "execution_count": 18,
   "metadata": {},
   "outputs": [],
   "source": [
    "amazonDataset = pd.read_excel(r'C:\\Users\\Vikas\\Desktop\\BrandMonitoring\\brand_monitoring\\samsung\\mobile\\AmazonDataset.xlsx',\n",
    "                                  encoding='ISO-8859–1', header=None)\n",
    "amazonDataset.columns = ['Model', 'Review']\n",
    "amazonDataset = amazonDataset.Review.str.lower()\n",
    "polDf1 = cleaner(amazonDataset)\n",
    "amazonPosCount = polDf1['Polarity'].value_counts()['Positive']\n",
    "amazonNegCount = polDf1['Polarity'].value_counts()['Negative']\n",
    "amazonNeuCount = polDf1['Polarity'].value_counts()['Neutral']"
   ]
  },
  {
   "cell_type": "code",
   "execution_count": 20,
   "metadata": {},
   "outputs": [
    {
     "data": {
      "text/plain": [
       "1242"
      ]
     },
     "execution_count": 20,
     "metadata": {},
     "output_type": "execute_result"
    }
   ],
   "source": [
    "amazonPosCount"
   ]
  },
  {
   "cell_type": "code",
   "execution_count": 22,
   "metadata": {},
   "outputs": [],
   "source": [
    "polDf1.to_csv(\"newAmazonDataset.csv\")"
   ]
  },
  {
   "cell_type": "code",
   "execution_count": 25,
   "metadata": {},
   "outputs": [],
   "source": [
    "amazonDataset = pd.read_csv(r'C:\\Users\\Vikas\\Desktop\\BrandMonitoring\\brand_monitoring\\samsung\\mobile\\newAmazonDataset.csv')\n",
    "amazonPosCount = amazonDataset['Polarity'].value_counts()['Positive']\n",
    "amazonNegCount = amazonDataset['Polarity'].value_counts()['Negative']\n",
    "amazonNeuCount = amazonDataset['Polarity'].value_counts()['Neutral']"
   ]
  },
  {
   "cell_type": "code",
   "execution_count": 27,
   "metadata": {},
   "outputs": [
    {
     "data": {
      "text/plain": [
       "1242"
      ]
     },
     "execution_count": 27,
     "metadata": {},
     "output_type": "execute_result"
    }
   ],
   "source": [
    "amazonPosCount"
   ]
  },
  {
   "cell_type": "code",
   "execution_count": 31,
   "metadata": {},
   "outputs": [],
   "source": [
    "twitterData = pd.read_csv(r'C:\\Users\\Vikas\\Desktop\\BrandMonitoring\\brand_monitoring\\samsung\\mobile\\twitterDataset.csv',encoding='latin1')\n",
    "sp_ch = [\"?\", \"READ MORE\", \"@\", \"SamsungIndia\", \"Samsungmobile\", \"Samsung\"]\n",
    "for char in sp_ch:\n",
    "    twitterData['user_tweet'] = twitterData['user_tweet'].str.replace(char, '')\n",
    "twitterData.drop(columns=['Unnamed: 1', 'Unnamed: 2'], inplace=True)\n",
    "twitterData = twitterData.user_tweet.str.lower()\n",
    "polDf3 = cleaner(twitterData)\n",
    "twitterPosCount = polDf3['Polarity'].value_counts()['Positive']\n",
    "twitterNegCount = polDf3['Polarity'].value_counts()['Negative']\n",
    "twitterNeuCount = polDf3['Polarity'].value_counts()['Neutral']"
   ]
  },
  {
   "cell_type": "code",
   "execution_count": 32,
   "metadata": {},
   "outputs": [
    {
     "data": {
      "text/plain": [
       "407"
      ]
     },
     "execution_count": 32,
     "metadata": {},
     "output_type": "execute_result"
    }
   ],
   "source": [
    "twitterPosCount"
   ]
  },
  {
   "cell_type": "code",
   "execution_count": 33,
   "metadata": {},
   "outputs": [],
   "source": [
    "polDf3.to_csv(\"newTwitterDataset.csv\")"
   ]
  },
  {
   "cell_type": "code",
   "execution_count": 34,
   "metadata": {},
   "outputs": [],
   "source": [
    "twitterData = pd.read_csv(r'C:\\Users\\Vikas\\Desktop\\BrandMonitoring\\brand_monitoring\\samsung\\mobile\\newTwitterDataset.csv')\n",
    "twitterPosCount = twitterData['Polarity'].value_counts()['Positive']\n",
    "twitterNegCount = twitterData['Polarity'].value_counts()['Negative']\n",
    "twitterNeuCount = twitterData['Polarity'].value_counts()['Neutral']"
   ]
  },
  {
   "cell_type": "code",
   "execution_count": 35,
   "metadata": {},
   "outputs": [
    {
     "data": {
      "text/plain": [
       "407"
      ]
     },
     "execution_count": 35,
     "metadata": {},
     "output_type": "execute_result"
    }
   ],
   "source": [
    "twitterPosCount"
   ]
  },
  {
   "cell_type": "code",
   "execution_count": null,
   "metadata": {},
   "outputs": [],
   "source": []
  }
 ],
 "metadata": {
  "kernelspec": {
   "display_name": "Python 3",
   "language": "python",
   "name": "python3"
  },
  "language_info": {
   "codemirror_mode": {
    "name": "ipython",
    "version": 3
   },
   "file_extension": ".py",
   "mimetype": "text/x-python",
   "name": "python",
   "nbconvert_exporter": "python",
   "pygments_lexer": "ipython3",
   "version": "3.7.6"
  }
 },
 "nbformat": 4,
 "nbformat_minor": 4
}
