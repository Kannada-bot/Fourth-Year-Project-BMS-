{
 "cells": [
  {
   "cell_type": "code",
   "execution_count": 1,
   "metadata": {},
   "outputs": [
    {
     "name": "stderr",
     "output_type": "stream",
     "text": [
      "[nltk_data] Downloading package stopwords to\n",
      "[nltk_data]     C:\\Users\\Vikas\\AppData\\Roaming\\nltk_data...\n",
      "[nltk_data]   Package stopwords is already up-to-date!\n"
     ]
    },
    {
     "data": {
      "text/plain": [
       "True"
      ]
     },
     "execution_count": 1,
     "metadata": {},
     "output_type": "execute_result"
    }
   ],
   "source": [
    "import pandas as pd\n",
    "import re\n",
    "import nltk\n",
    "from nltk.corpus import stopwords\n",
    "from textblob import TextBlob\n",
    "nltk.download('stopwords')"
   ]
  },
  {
   "cell_type": "code",
   "execution_count": 2,
   "metadata": {},
   "outputs": [],
   "source": [
    "flipkartData = pd.read_csv(r'C:\\Users\\Vikas\\Desktop\\BrandMonitoring\\brand_monitoring\\samsung\\television\\flipkartTV.csv',\n",
    "        encoding='ISO-8859–1')\n",
    "sp_ch = [\"?\", \"READ MORE\"]\n",
    "for char in sp_ch:\n",
    "    flipkartData['Reviews'] = flipkartData['Reviews'].str.replace(char, '')\n",
    "flipkartData.drop(columns=['Unnamed: 1', 'Unnamed: 2', 'Unnamed: 3'], inplace=True)\n",
    "flipkartData = flipkartData.Reviews.str.lower()"
   ]
  },
  {
   "cell_type": "code",
   "execution_count": 3,
   "metadata": {},
   "outputs": [],
   "source": [
    "def cleaner(data):\n",
    "    corpus = []\n",
    "    for i in range(0, len(data)):\n",
    "        review = re.sub('[^a-zA-Z]', ' ', str(data[i]))\n",
    "        review = review.lower()\n",
    "        review = review.split()\n",
    "        all_stopwords = stopwords.words('english')\n",
    "        all_stopwords.remove('not')\n",
    "        review = [word for word in review if not word in set(all_stopwords)]\n",
    "        review = ' '.join(review)\n",
    "        corpus.append(review)\n",
    "    data.dropna(inplace=True)\n",
    "    text_pol = []\n",
    "    for i in range(0, len(corpus)):\n",
    "        text = corpus[i]\n",
    "        senti = TextBlob(text)\n",
    "        polarity = senti.sentiment.polarity\n",
    "        if -1 <= polarity < -0.5:\n",
    "            label = 'Negative'\n",
    "        elif -0.5 <= polarity < -0.1:\n",
    "            label = 'Negative'\n",
    "        elif -0.1 <= polarity < 0.2:\n",
    "            label = 'Neutral'\n",
    "        elif 0.2 <= polarity < 0.6:\n",
    "            label = 'Positive'\n",
    "        elif 0.6 <= polarity <= 1:\n",
    "            label = 'Positive'\n",
    "        text_pol.append(label)\n",
    "    polDf = pd.DataFrame(list(zip(corpus, text_pol)), columns=['Review', 'Polarity'])\n",
    "    return polDf"
   ]
  },
  {
   "cell_type": "code",
   "execution_count": 4,
   "metadata": {},
   "outputs": [],
   "source": [
    "polDf = cleaner(flipkartData)\n",
    "flipkartPosCount = polDf['Polarity'].value_counts()['Positive']\n",
    "flipkartNegCount = polDf['Polarity'].value_counts()['Negative']\n",
    "flipkartNeuCount = polDf['Polarity'].value_counts()['Neutral']"
   ]
  },
  {
   "cell_type": "code",
   "execution_count": 5,
   "metadata": {},
   "outputs": [
    {
     "data": {
      "text/plain": [
       "1519"
      ]
     },
     "execution_count": 5,
     "metadata": {},
     "output_type": "execute_result"
    }
   ],
   "source": [
    "flipkartPosCount"
   ]
  },
  {
   "cell_type": "code",
   "execution_count": 6,
   "metadata": {},
   "outputs": [],
   "source": [
    "polDf.to_csv(\"newFlipkartTV.csv\")"
   ]
  },
  {
   "cell_type": "code",
   "execution_count": 7,
   "metadata": {},
   "outputs": [],
   "source": [
    "flipkartData = pd.read_csv(r'C:\\Users\\Vikas\\Desktop\\BrandMonitoring\\brand_monitoring\\samsung\\television\\newFlipkartTV.csv')\n",
    "flipkartPosCount = flipkartData['Polarity'].value_counts()['Positive']\n",
    "flipkartNegCount = flipkartData['Polarity'].value_counts()['Negative']\n",
    "flipkartNeuCount = flipkartData['Polarity'].value_counts()['Neutral']"
   ]
  },
  {
   "cell_type": "code",
   "execution_count": 8,
   "metadata": {},
   "outputs": [
    {
     "data": {
      "text/plain": [
       "1519"
      ]
     },
     "execution_count": 8,
     "metadata": {},
     "output_type": "execute_result"
    }
   ],
   "source": [
    "flipkartPosCount"
   ]
  },
  {
   "cell_type": "code",
   "execution_count": 11,
   "metadata": {},
   "outputs": [],
   "source": [
    "amazonDataset = pd.read_csv(r'C:\\Users\\Vikas\\Desktop\\BrandMonitoring\\brand_monitoring\\samsung\\television\\amazonTV.csv',\n",
    "        encoding='latin1')\n",
    "sp_ch = [\"?\", \"READ MORE\", \"@\", \"!\", '\\n']\n",
    "for char in sp_ch:\n",
    "    amazonDataset['Reviews'] = amazonDataset['Reviews'].str.replace(char, '')\n",
    "amazonDataset = amazonDataset.Reviews.str.lower()\n",
    "polDf2 = cleaner(amazonDataset)\n",
    "amazonPosCount = polDf2['Polarity'].value_counts()['Positive']\n",
    "amazonNegCount = polDf2['Polarity'].value_counts()['Negative']\n",
    "amazonNeuCount = polDf2['Polarity'].value_counts()['Neutral']"
   ]
  },
  {
   "cell_type": "code",
   "execution_count": 12,
   "metadata": {},
   "outputs": [
    {
     "data": {
      "text/plain": [
       "1175"
      ]
     },
     "execution_count": 12,
     "metadata": {},
     "output_type": "execute_result"
    }
   ],
   "source": [
    "amazonPosCount"
   ]
  },
  {
   "cell_type": "code",
   "execution_count": 13,
   "metadata": {},
   "outputs": [],
   "source": [
    "polDf2.to_csv(\"newAmazonTV.csv\")"
   ]
  },
  {
   "cell_type": "code",
   "execution_count": 14,
   "metadata": {},
   "outputs": [],
   "source": [
    "amazonDataset = pd.read_csv(r'C:\\Users\\Vikas\\Desktop\\BrandMonitoring\\brand_monitoring\\samsung\\television\\newAmazonTV.csv')\n",
    "amazonPosCount = amazonDataset['Polarity'].value_counts()['Positive']\n",
    "amazonNegCount = amazonDataset['Polarity'].value_counts()['Negative']\n",
    "amazonNeuCount = amazonDataset['Polarity'].value_counts()['Neutral']"
   ]
  },
  {
   "cell_type": "code",
   "execution_count": 15,
   "metadata": {},
   "outputs": [
    {
     "data": {
      "text/plain": [
       "1175"
      ]
     },
     "execution_count": 15,
     "metadata": {},
     "output_type": "execute_result"
    }
   ],
   "source": [
    "amazonPosCount"
   ]
  },
  {
   "cell_type": "code",
   "execution_count": 17,
   "metadata": {},
   "outputs": [],
   "source": [
    "df = pd.read_csv(r'C:\\Users\\Vikas\\Desktop\\BrandMonitoring\\brand_monitoring\\samsung\\television\\MergedTVs.csv',\n",
    "        encoding='latin1')\n",
    "sp_ch = [\"?\", \"READ MORE\", '\\n','samsung']\n",
    "for char in sp_ch:\n",
    "    df['Reviews']=df['Reviews'].str.replace(char,'')\n",
    "df = df.Reviews.str.lower()\n",
    "polDf3 = cleaner(df)"
   ]
  },
  {
   "cell_type": "code",
   "execution_count": 19,
   "metadata": {},
   "outputs": [],
   "source": [
    "polDf3.to_csv(\"newMergedTV.csv\")"
   ]
  },
  {
   "cell_type": "code",
   "execution_count": null,
   "metadata": {},
   "outputs": [],
   "source": []
  }
 ],
 "metadata": {
  "kernelspec": {
   "display_name": "Python 3",
   "language": "python",
   "name": "python3"
  },
  "language_info": {
   "codemirror_mode": {
    "name": "ipython",
    "version": 3
   },
   "file_extension": ".py",
   "mimetype": "text/x-python",
   "name": "python",
   "nbconvert_exporter": "python",
   "pygments_lexer": "ipython3",
   "version": "3.7.6"
  }
 },
 "nbformat": 4,
 "nbformat_minor": 4
}
